{
  "cells": [
    {
      "cell_type": "markdown",
      "metadata": {
        "id": "CAbS69NPtdTJ"
      },
      "source": [
        "# Autoencoding for analysis of spectroscopic data\n",
        "\n",
        "---\n",
        "\n",
        "Lecture: \"Physics-augmented machine learning\" @ Cyber-Physical Simulation, TU Darmstadt\n",
        "\n",
        "Lecturer: Prof. Oliver Weeger\n",
        "\n",
        "Assistants: Dr.-Ing. Maximilian Kannapin, Jasper O. Schommartz, Dominik K. Klein\n",
        "\n",
        "Summer term 2025\n",
        "\n",
        "---\n",
        "\n"
      ]
    },
    {
      "cell_type": "markdown",
      "metadata": {
        "id": "-Xin1T39xsu0"
      },
      "source": [
        "*Run the following cell to clone the GitHub repository in your current Google Colab environment.*"
      ]
    },
    {
      "cell_type": "code",
      "execution_count": 3,
      "metadata": {
        "colab": {
          "base_uri": "https://localhost:8080/"
        },
        "id": "g_-FEL0BxvLk",
        "outputId": "e1cdece2-8439-4257-faf1-01dfa7ccb105"
      },
      "outputs": [
        {
          "output_type": "stream",
          "name": "stdout",
          "text": [
            "fatal: destination path 'LecturePhysicsAwareML' already exists and is not an empty directory.\n",
            "Cloning into 'bacteria-ID'...\n",
            "remote: Enumerating objects: 32, done.\u001b[K\n",
            "remote: Total 32 (delta 0), reused 0 (delta 0), pack-reused 32 (from 1)\u001b[K\n",
            "Receiving objects: 100% (32/32), 14.37 MiB | 30.71 MiB/s, done.\n",
            "Resolving deltas: 100% (9/9), done.\n"
          ]
        }
      ],
      "source": [
        "!git clone https://github.com/CPShub/LecturePhysicsAwareML.git\n",
        "! git clone https://github.com/csho33/bacteria-ID.git"
      ]
    },
    {
      "cell_type": "markdown",
      "metadata": {
        "id": "y-v5FNcbWBpi"
      },
      "source": [
        "*Run the following cell to import all modules and python files to this notebook. If you made changes in the python files, run the following cell again to update the python files in this notebook. You might need to restart your Colab session first (\"Runtime / Restart session\" in the header menu).*\n"
      ]
    },
    {
      "cell_type": "code",
      "execution_count": 4,
      "metadata": {
        "id": "qFy4zsH0WAz6",
        "outputId": "a2338a92-0346-4199-beb3-6f45d34ea796",
        "colab": {
          "base_uri": "https://localhost:8080/",
          "height": 394
        }
      },
      "outputs": [
        {
          "output_type": "error",
          "ename": "ModuleNotFoundError",
          "evalue": "No module named 'LecturePhysicsAwareML.Autoencoder.data'",
          "traceback": [
            "\u001b[0;31m---------------------------------------------------------------------------\u001b[0m",
            "\u001b[0;31mModuleNotFoundError\u001b[0m                       Traceback (most recent call last)",
            "\u001b[0;32m<ipython-input-4-afef823e025c>\u001b[0m in \u001b[0;36m<cell line: 0>\u001b[0;34m()\u001b[0m\n\u001b[1;32m      2\u001b[0m \u001b[0;32mimport\u001b[0m \u001b[0mdatetime\u001b[0m\u001b[0;34m\u001b[0m\u001b[0;34m\u001b[0m\u001b[0m\n\u001b[1;32m      3\u001b[0m \u001b[0mnow\u001b[0m \u001b[0;34m=\u001b[0m \u001b[0mdatetime\u001b[0m\u001b[0;34m.\u001b[0m\u001b[0mdatetime\u001b[0m\u001b[0;34m.\u001b[0m\u001b[0mnow\u001b[0m\u001b[0;34m\u001b[0m\u001b[0;34m\u001b[0m\u001b[0m\n\u001b[0;32m----> 4\u001b[0;31m \u001b[0;32mimport\u001b[0m \u001b[0mLecturePhysicsAwareML\u001b[0m\u001b[0;34m.\u001b[0m\u001b[0mAutoencoder\u001b[0m\u001b[0;34m.\u001b[0m\u001b[0mdata\u001b[0m \u001b[0;32mas\u001b[0m \u001b[0mld\u001b[0m\u001b[0;34m\u001b[0m\u001b[0;34m\u001b[0m\u001b[0m\n\u001b[0m\u001b[1;32m      5\u001b[0m \u001b[0;32mimport\u001b[0m \u001b[0mLecturePhysicsAwareML\u001b[0m\u001b[0;34m.\u001b[0m\u001b[0mAutoencoder\u001b[0m\u001b[0;34m.\u001b[0m\u001b[0mmodels\u001b[0m \u001b[0;32mas\u001b[0m \u001b[0mlm\u001b[0m\u001b[0;34m\u001b[0m\u001b[0;34m\u001b[0m\u001b[0m\n\u001b[1;32m      6\u001b[0m \u001b[0;32mimport\u001b[0m \u001b[0mLecturePhysicsAwareML\u001b[0m\u001b[0;34m.\u001b[0m\u001b[0mAutoencoder\u001b[0m\u001b[0;34m.\u001b[0m\u001b[0mplots\u001b[0m \u001b[0;32mas\u001b[0m \u001b[0mlp\u001b[0m\u001b[0;34m\u001b[0m\u001b[0;34m\u001b[0m\u001b[0m\n",
            "\u001b[0;31mModuleNotFoundError\u001b[0m: No module named 'LecturePhysicsAwareML.Autoencoder.data'",
            "",
            "\u001b[0;31m---------------------------------------------------------------------------\u001b[0;32m\nNOTE: If your import is failing due to a missing package, you can\nmanually install dependencies using either !pip or !apt.\n\nTo view examples of installing some common dependencies, click the\n\"Open Examples\" button below.\n\u001b[0;31m---------------------------------------------------------------------------\u001b[0m\n"
          ],
          "errorDetails": {
            "actions": [
              {
                "action": "open_url",
                "actionText": "Open Examples",
                "url": "/notebooks/snippets/importing_libraries.ipynb"
              }
            ]
          }
        }
      ],
      "source": [
        "import tensorflow as tf\n",
        "import datetime\n",
        "now = datetime.datetime.now\n",
        "import LecturePhysicsAwareML.Autoencoder.data as ld\n",
        "import LecturePhysicsAwareML.Autoencoder.models as lm\n",
        "import LecturePhysicsAwareML.Autoencoder.plots as lp"
      ]
    },
    {
      "cell_type": "markdown",
      "metadata": {
        "id": "tCsM5oQYUfuv"
      },
      "source": [
        "*Run this cell if you are executing the notebook locally on your device.*"
      ]
    },
    {
      "cell_type": "code",
      "execution_count": null,
      "metadata": {
        "id": "T5N5T3YXUfuw",
        "outputId": "395a85c5-64d0-4d28-90c6-120e4305f349"
      },
      "outputs": [
        {
          "name": "stderr",
          "output_type": "stream",
          "text": [
            "Matplotlib is building the font cache; this may take a moment.\n"
          ]
        }
      ],
      "source": [
        "import tensorflow as tf\n",
        "import datetime\n",
        "now = datetime.datetime.now\n",
        "import data as ld\n",
        "import models as lm\n",
        "import plots as lp"
      ]
    },
    {
      "cell_type": "markdown",
      "metadata": {
        "id": "u8QQsUEEvTxE"
      },
      "source": [
        "*If you want to clone the repository again, you have to delete it from your Google Colab files first. For this, you can run the following cell.*"
      ]
    },
    {
      "cell_type": "code",
      "execution_count": null,
      "metadata": {
        "id": "1nOi7jY3vbsn"
      },
      "outputs": [],
      "source": [
        "%rm -rf LecturePhysicsAwareML"
      ]
    },
    {
      "cell_type": "code",
      "source": [
        "cases = [18,27,0,26]\n",
        "#cases = [18,27,0]\n",
        "#cases = [18,27]\n",
        "#cases=[0,26]\n",
        "wn_c, wn_t, wn_v, spectra_c, spectra_t, spectra_v, label_c, label_t, label_v = hd.load_data(cases,int(70*len(cases)),int(15*len(cases)))\n",
        "\n",
        "# %%\n",
        "\"\"\"\n",
        "Initialise NNs\n",
        "\n",
        "\"\"\"\n",
        "\n",
        "latent_variables = 4\n",
        "nodes = 64\n",
        "\n",
        "units = [nodes,latent_variables,nodes,1000]\n",
        "activation = ['softplus','linear','softplus','linear']\n",
        "model_AE = hm.main(units=units, activation=activation)\n",
        "\n",
        "units = [nodes,latent_variables]\n",
        "activation = ['softplus','linear']\n",
        "model_E = hm.main(units=units, activation=activation)\n",
        "\n",
        "\n",
        "\n",
        "# %%\n",
        "\"\"\"\n",
        "Calibrate autoencoder\n",
        "\n",
        "\"\"\"\n",
        "\n",
        "epochs = 500\n",
        "h = model_AE.fit([spectra_c], [spectra_c], epochs=epochs, verbose=2, validation_data=(spectra_v,spectra_v))\n",
        "\n",
        "hp.plot_loss(h)\n",
        "\n",
        "\n",
        "# %%\n",
        "\"\"\"\n",
        "Visualise latent space\n",
        "\n",
        "\"\"\"\n",
        "\n",
        "model_E.set_weights(model_AE.weights[0:4])\n",
        "\n",
        "for i in range(latent_variables):\n",
        "    for j in range(latent_variables):\n",
        "        if i!=j:\n",
        "            if i>j:\n",
        "\n",
        "                hp.plot_latent_space_ij(model_E, spectra_c, spectra_t, label_c, label_t, i, j)\n",
        "\n",
        "\n",
        "# %%\n",
        "\"\"\"\n",
        "Visualise bacteria\n",
        "\n",
        "\"\"\"\n",
        "\n",
        "for i in range(len(cases)):\n",
        "\n",
        "    wn, spectra = hd.load_single_case(cases[i])\n",
        "    hp.plot_spectra(wn, spectra, i, cases[i])"
      ],
      "metadata": {
        "id": "bjtRVxSPwZyF"
      },
      "execution_count": null,
      "outputs": []
    }
  ],
  "metadata": {
    "colab": {
      "provenance": []
    },
    "kernelspec": {
      "display_name": "Python 3",
      "name": "python3"
    },
    "language_info": {
      "name": "python"
    }
  },
  "nbformat": 4,
  "nbformat_minor": 0
}