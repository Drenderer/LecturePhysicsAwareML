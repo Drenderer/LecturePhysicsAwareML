{
  "cells": [
    {
      "cell_type": "markdown",
      "metadata": {
        "id": "CAbS69NPtdTJ"
      },
      "source": [
        "# Autoencoding for analysis of spectroscopic data\n",
        "\n",
        "---\n",
        "\n",
        "Lecture: \"Physics-augmented machine learning\" @ Cyber-Physical Simulation, TU Darmstadt\n",
        "\n",
        "Lecturer: Prof. Oliver Weeger\n",
        "\n",
        "Assistants: Dr.-Ing. Maximilian Kannapin, Jasper O. Schommartz, Dominik K. Klein\n",
        "\n",
        "Summer term 2025\n",
        "\n",
        "---\n",
        "\n"
      ]
    },
    {
      "cell_type": "markdown",
      "metadata": {
        "id": "-Xin1T39xsu0"
      },
      "source": [
        "*Run the following cell to clone the GitHub repository in your current Google Colab environment.*"
      ]
    },
    {
      "cell_type": "code",
      "execution_count": 12,
      "metadata": {
        "colab": {
          "base_uri": "https://localhost:8080/"
        },
        "id": "g_-FEL0BxvLk",
        "outputId": "799eb6be-4b8b-401f-b9f1-daf3eb7940c5"
      },
      "outputs": [
        {
          "output_type": "stream",
          "name": "stdout",
          "text": [
            "fatal: destination path 'LecturePhysicsAwareML' already exists and is not an empty directory.\n",
            "fatal: destination path 'bacteria-ID' already exists and is not an empty directory.\n"
          ]
        }
      ],
      "source": [
        "!git clone https://github.com/CPShub/LecturePhysicsAwareML.git\n",
        "! git clone https://github.com/csho33/bacteria-ID.git"
      ]
    },
    {
      "cell_type": "markdown",
      "metadata": {
        "id": "y-v5FNcbWBpi"
      },
      "source": [
        "*Run the following cell to import all modules and python files to this notebook. If you made changes in the python files, run the following cell again to update the python files in this notebook. You might need to restart your Colab session first (\"Runtime / Restart session\" in the header menu).*\n"
      ]
    },
    {
      "cell_type": "code",
      "execution_count": 14,
      "metadata": {
        "id": "qFy4zsH0WAz6"
      },
      "outputs": [],
      "source": [
        "import tensorflow as tf\n",
        "import datetime\n",
        "now = datetime.datetime.now\n",
        "import LecturePhysicsAwareML.Autoencoder.data as ld\n",
        "import LecturePhysicsAwareML.Autoencoder.models as lm\n",
        "import LecturePhysicsAwareML.Autoencoder.plots as lp"
      ]
    },
    {
      "cell_type": "markdown",
      "metadata": {
        "id": "tCsM5oQYUfuv"
      },
      "source": [
        "*Run this cell if you are executing the notebook locally on your device.*"
      ]
    },
    {
      "cell_type": "code",
      "execution_count": null,
      "metadata": {
        "id": "T5N5T3YXUfuw",
        "outputId": "395a85c5-64d0-4d28-90c6-120e4305f349"
      },
      "outputs": [
        {
          "name": "stderr",
          "output_type": "stream",
          "text": [
            "Matplotlib is building the font cache; this may take a moment.\n"
          ]
        }
      ],
      "source": [
        "import tensorflow as tf\n",
        "import datetime\n",
        "now = datetime.datetime.now\n",
        "import data as ld\n",
        "import models as lm\n",
        "import plots as lp"
      ]
    },
    {
      "cell_type": "markdown",
      "metadata": {
        "id": "u8QQsUEEvTxE"
      },
      "source": [
        "*If you want to clone the repository again, you have to delete it from your Google Colab files first. For this, you can run the following cell.*"
      ]
    },
    {
      "cell_type": "code",
      "execution_count": null,
      "metadata": {
        "id": "1nOi7jY3vbsn"
      },
      "outputs": [],
      "source": [
        "%rm -rf LecturePhysicsAwareML"
      ]
    },
    {
      "cell_type": "code",
      "source": [
        "cases = [18,27,0,26]\n",
        "#cases = [18,27,0]\n",
        "#cases = [18,27]\n",
        "#cases=[0,26]\n",
        "n_test=10\n",
        "wn_c, spectra_c, label_c = ld.load_data(cases,n_test)\n",
        "\n",
        "# %%\n",
        "\"\"\"\n",
        "Initialise NNs\n",
        "\n",
        "\"\"\"\n",
        "\n",
        "latent_variables = 4\n",
        "nodes = 64\n",
        "\n",
        "units = [nodes,latent_variables,nodes,1000]\n",
        "activation = ['softplus','linear','softplus','linear']\n",
        "model_AE = lm.main(units=units, activation=activation)\n",
        "\n",
        "units = [nodes,latent_variables]\n",
        "activation = ['softplus','linear']\n",
        "model_E = lm.main(units=units, activation=activation)\n",
        "\n",
        "\n",
        "\n",
        "# %%\n",
        "\"\"\"\n",
        "Calibrate autoencoder\n",
        "\n",
        "\"\"\"\n",
        "\n",
        "epochs = 500\n",
        "h = model_AE.fit([spectra_c], [spectra_c], epochs=epochs, verbose=2)\n",
        "\n",
        "lp.plot_loss(h)\n",
        "\n",
        "\n",
        "# %%\n",
        "\"\"\"\n",
        "Visualise latent space\n",
        "\n",
        "\"\"\"\n",
        "\n",
        "model_E.set_weights(model_AE.weights[0:4])\n",
        "\n",
        "for i in range(latent_variables):\n",
        "    for j in range(latent_variables):\n",
        "        if i!=j:\n",
        "            if i>j:\n",
        "\n",
        "                lp.plot_latent_space_ij(model_E, spectra_c, spectra_t, label_c, label_t, i, j)\n",
        "\n",
        "\n",
        "# %%\n",
        "\"\"\"\n",
        "Visualise bacteria\n",
        "\n",
        "\"\"\"\n",
        "\n",
        "for i in range(len(cases)):\n",
        "\n",
        "    wn, spectra = ld.load_single_case(cases[i])\n",
        "    lp.plot_spectra(wn, spectra, i, cases[i])"
      ],
      "metadata": {
        "id": "bjtRVxSPwZyF",
        "outputId": "106432a0-ec98-40fa-96a9-01a97af3b626",
        "colab": {
          "base_uri": "https://localhost:8080/",
          "height": 216
        }
      },
      "execution_count": 20,
      "outputs": [
        {
          "output_type": "error",
          "ename": "TypeError",
          "evalue": "load_data() missing 1 required positional argument: 'n_test'",
          "traceback": [
            "\u001b[0;31m---------------------------------------------------------------------------\u001b[0m",
            "\u001b[0;31mTypeError\u001b[0m                                 Traceback (most recent call last)",
            "\u001b[0;32m<ipython-input-20-3966d6816219>\u001b[0m in \u001b[0;36m<cell line: 0>\u001b[0;34m()\u001b[0m\n\u001b[1;32m      4\u001b[0m \u001b[0;31m#cases=[0,26]\u001b[0m\u001b[0;34m\u001b[0m\u001b[0;34m\u001b[0m\u001b[0m\n\u001b[1;32m      5\u001b[0m \u001b[0mn_test\u001b[0m\u001b[0;34m=\u001b[0m\u001b[0;36m10\u001b[0m\u001b[0;34m\u001b[0m\u001b[0;34m\u001b[0m\u001b[0m\n\u001b[0;32m----> 6\u001b[0;31m \u001b[0mwn_c\u001b[0m\u001b[0;34m,\u001b[0m \u001b[0mspectra_c\u001b[0m\u001b[0;34m,\u001b[0m \u001b[0mlabel_c\u001b[0m \u001b[0;34m=\u001b[0m \u001b[0mld\u001b[0m\u001b[0;34m.\u001b[0m\u001b[0mload_data\u001b[0m\u001b[0;34m(\u001b[0m\u001b[0mcases\u001b[0m\u001b[0;34m,\u001b[0m\u001b[0mn_test\u001b[0m\u001b[0;34m)\u001b[0m\u001b[0;34m\u001b[0m\u001b[0;34m\u001b[0m\u001b[0m\n\u001b[0m\u001b[1;32m      7\u001b[0m \u001b[0;34m\u001b[0m\u001b[0m\n\u001b[1;32m      8\u001b[0m \u001b[0;31m# %%\u001b[0m\u001b[0;34m\u001b[0m\u001b[0;34m\u001b[0m\u001b[0m\n",
            "\u001b[0;31mTypeError\u001b[0m: load_data() missing 1 required positional argument: 'n_test'"
          ]
        }
      ]
    }
  ],
  "metadata": {
    "colab": {
      "provenance": []
    },
    "kernelspec": {
      "display_name": "Python 3",
      "name": "python3"
    },
    "language_info": {
      "name": "python"
    }
  },
  "nbformat": 4,
  "nbformat_minor": 0
}