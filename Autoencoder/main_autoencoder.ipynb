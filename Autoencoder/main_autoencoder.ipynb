{
  "cells": [
    {
      "cell_type": "markdown",
      "metadata": {
        "id": "CAbS69NPtdTJ"
      },
      "source": [
        "# Autoencoding for clustering of spectroscopic data\n",
        "\n",
        "---\n",
        "\n",
        "Lecture: \"Physics-augmented machine learning\" @ Cyber-Physical Simulation, TU Darmstadt\n",
        "\n",
        "Lecturer: Prof. Oliver Weeger\n",
        "\n",
        "Assistants: Dr.-Ing. Maximilian Kannapin, Jasper O. Schommartz, Dominik K. Klein\n",
        "\n",
        "Summer term 2025\n",
        "\n",
        "---\n",
        "\n",
        "Experimental data by Ho et al.: ''Rapid identification of pathogenic bacteria using Raman spectroscopy and deep learning''. Nature Commuications 10:4927 (2019).\n",
        "\n"
      ]
    },
    {
      "cell_type": "markdown",
      "metadata": {
        "id": "-Xin1T39xsu0"
      },
      "source": [
        "*Run the following cell to clone the GitHub repository in your current Google Colab environment.*"
      ]
    },
    {
      "cell_type": "code",
      "execution_count": null,
      "metadata": {
        "colab": {
          "base_uri": "https://localhost:8080/"
        },
        "id": "g_-FEL0BxvLk",
        "outputId": "e6eb80d8-6cfa-4909-c761-f5693856df4d"
      },
      "outputs": [],
      "source": [
        "!git clone https://github.com/CPShub/LecturePhysicsAwareML.git"
      ]
    },
    {
      "cell_type": "markdown",
      "metadata": {
        "id": "y-v5FNcbWBpi"
      },
      "source": [
        "*Run the following cell to import all modules and python files to this notebook. If you made changes in the python files, run the following cell again to update the python files in this notebook. You might need to restart your Colab session first (\"Runtime / Restart session\" in the header menu).*\n"
      ]
    },
    {
      "cell_type": "code",
      "execution_count": null,
      "metadata": {
        "id": "qFy4zsH0WAz6"
      },
      "outputs": [],
      "source": [
        "import datetime\n",
        "\n",
        "import pandas as pd\n",
        "import tensorflow as tf\n",
        "\n",
        "import LecturePhysicsAwareML.Autoencoder.data as ld\n",
        "import LecturePhysicsAwareML.Autoencoder.models as lm\n",
        "import LecturePhysicsAwareML.Autoencoder.plots as lp\n",
        "\n",
        "now = datetime.datetime.now"
      ]
    },
    {
      "cell_type": "markdown",
      "metadata": {
        "id": "tCsM5oQYUfuv"
      },
      "source": [
        "*Run this cell if you are executing the notebook locally on your device.*"
      ]
    },
    {
      "cell_type": "code",
      "execution_count": null,
      "metadata": {
        "id": "T5N5T3YXUfuw",
        "outputId": "395a85c5-64d0-4d28-90c6-120e4305f349"
      },
      "outputs": [],
      "source": [
        "import datetime\n",
        "import pandas as pd\n",
        "import tensorflow as tf\n",
        "\n",
        "import data as ld\n",
        "import models as lm\n",
        "import plots as lp\n",
        "\n",
        "now = datetime.datetime.now"
      ]
    },
    {
      "cell_type": "markdown",
      "metadata": {
        "id": "u8QQsUEEvTxE"
      },
      "source": [
        "*If you want to clone the repository again, you have to delete it from your Google Colab files first. For this, you can run the following cell.*"
      ]
    },
    {
      "cell_type": "code",
      "execution_count": null,
      "metadata": {
        "id": "1nOi7jY3vbsn"
      },
      "outputs": [],
      "source": [
        "%rm -rf LecturePhysicsAwareML"
      ]
    },
    {
      "cell_type": "markdown",
      "metadata": {
        "id": "pY-pgROF-AaU"
      },
      "source": [
        "Load full autoencoder and encoder"
      ]
    },
    {
      "cell_type": "code",
      "execution_count": null,
      "metadata": {
        "id": "nh3CUStV-J6e"
      },
      "outputs": [],
      "source": [
        "latent_variables = 2  # number of latent dimensions\n",
        "nodes = 64            # number of hidden encoder/decoder nodes\n",
        "feature_number = 1000 # number of measurements per spectrum\n",
        "\n",
        "# Build full encoder-decoder model\n",
        "units = [nodes, latent_variables, nodes, feature_number]\n",
        "activation = ['softplus', 'linear', 'softplus', 'linear']\n",
        "autoencoder = lm.build(input_shape=feature_number, units=units, activation=activation)\n",
        "\n",
        "# Build encoder model (for later evaluation of latent variables)\n",
        "units = [nodes, latent_variables]\n",
        "activation = ['softplus', 'linear']\n",
        "encoder = lm.build(input_shape=feature_number, units=units, activation=activation)"
      ]
    },
    {
      "cell_type": "markdown",
      "metadata": {},
      "source": [
        "Select bacteria sets so be investigated"
      ]
    },
    {
      "cell_type": "code",
      "execution_count": null,
      "metadata": {},
      "outputs": [],
      "source": [
        "# define bacteria sets to be investigated (numbers between 0 and 29)\n",
        "cases = [18, 27, 0, 26]\n",
        "raman_shift, intensity_spectrum, label = ld.load_data(cases)\n",
        "\n",
        "# Create a DataFrame with label, raman_shift, and intensity\n",
        "# Only use the first 5 components of raman_shift and intensity for each row\n",
        "df = pd.DataFrame({\n",
        "    'Bacteria class': label,\n",
        "    'Raman shift': [rs[:5] for rs in raman_shift],\n",
        "    'Intensity spectrum': [intens[:5] for intens in intensity_spectrum]\n",
        "})\n",
        "df"
      ]
    },
    {
      "cell_type": "markdown",
      "metadata": {
        "id": "6ulRH9MJ-NNa"
      },
      "source": [
        "Define study and calibrate the autoencoder"
      ]
    },
    {
      "cell_type": "code",
      "execution_count": null,
      "metadata": {
        "id": "bjtRVxSPwZyF"
      },
      "outputs": [],
      "source": [
        "# Fit encoder-decoder model\n",
        "epochs = 500\n",
        "h = autoencoder.fit(\n",
        "    [intensity_spectrum], [intensity_spectrum], epochs=epochs, verbose=2\n",
        ")\n",
        "\n",
        "lp.plot_loss(h)"
      ]
    },
    {
      "cell_type": "markdown",
      "metadata": {
        "id": "v313lNyC-sUz"
      },
      "source": [
        "Visualize results"
      ]
    },
    {
      "cell_type": "code",
      "execution_count": null,
      "metadata": {
        "id": "RFM1psse8dk8"
      },
      "outputs": [],
      "source": [
        "# Transfer weights from the encoder-decoder model to the encoder model\n",
        "# for evaluation of the latent variables\n",
        "encoder.set_weights(autoencoder.weights[0:4])\n",
        "\n",
        "# plot latent space\n",
        "for i in range(latent_variables):\n",
        "    for j in range(latent_variables):\n",
        "        if i != j:\n",
        "            if i > j:\n",
        "                lp.plot_latent_space_ij(encoder, intensity_spectrum, label, i, j)\n",
        "\n",
        "# plot the different bacteria types\n",
        "for i in range(len(cases)):\n",
        "    raman_shift, intensity_spectrum = ld.load_single_case(cases[i])\n",
        "    lp.plot_spectra(raman_shift, intensity_spectrum, i, cases[i])"
      ]
    },
    {
      "cell_type": "code",
      "execution_count": null,
      "metadata": {},
      "outputs": [],
      "source": []
    }
  ],
  "metadata": {
    "colab": {
      "provenance": []
    },
    "kernelspec": {
      "display_name": ".venv",
      "language": "python",
      "name": "python3"
    },
    "language_info": {
      "codemirror_mode": {
        "name": "ipython",
        "version": 3
      },
      "file_extension": ".py",
      "mimetype": "text/x-python",
      "name": "python",
      "nbconvert_exporter": "python",
      "pygments_lexer": "ipython3",
      "version": "3.12.10"
    }
  },
  "nbformat": 4,
  "nbformat_minor": 0
}
