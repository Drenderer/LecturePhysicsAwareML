{
  "cells": [
    {
      "cell_type": "markdown",
      "metadata": {
        "id": "CAbS69NPtdTJ"
      },
      "source": [
        "# Autoencoding for clustering of spectroscopic data\n",
        "\n",
        "---\n",
        "\n",
        "Lecture: \"Physics-augmented machine learning\" @ Cyber-Physical Simulation, TU Darmstadt\n",
        "\n",
        "Lecturer: Prof. Oliver Weeger\n",
        "\n",
        "Assistants: Dr.-Ing. Maximilian Kannapin, Jasper O. Schommartz, Dominik K. Klein\n",
        "\n",
        "Summer term 2025\n",
        "\n",
        "---\n",
        "\n",
        "Experimental data by Ho et al.: ''Rapid identification of pathogenic bacteria using Raman spectroscopy and deep learning''. Nature Commuications 10:4927 (2019).\n",
        "\n"
      ]
    },
    {
      "cell_type": "markdown",
      "metadata": {
        "id": "-Xin1T39xsu0"
      },
      "source": [
        "*Run the following cell to clone the GitHub repository in your current Google Colab environment.*"
      ]
    },
    {
      "cell_type": "code",
      "execution_count": 8,
      "metadata": {
        "colab": {
          "base_uri": "https://localhost:8080/"
        },
        "id": "g_-FEL0BxvLk",
        "outputId": "e6eb80d8-6cfa-4909-c761-f5693856df4d"
      },
      "outputs": [
        {
          "output_type": "stream",
          "name": "stdout",
          "text": [
            "Cloning into 'LecturePhysicsAwareML'...\n",
            "remote: Enumerating objects: 819, done.\u001b[K\n",
            "remote: Counting objects: 100% (74/74), done.\u001b[K\n",
            "remote: Compressing objects: 100% (59/59), done.\u001b[K\n",
            "remote: Total 819 (delta 25), reused 27 (delta 15), pack-reused 745 (from 2)\u001b[K\n",
            "Receiving objects: 100% (819/819), 141.00 MiB | 24.77 MiB/s, done.\n",
            "Resolving deltas: 100% (343/343), done.\n",
            "Updating files: 100% (189/189), done.\n"
          ]
        }
      ],
      "source": [
        "!git clone https://github.com/CPShub/LecturePhysicsAwareML.git"
      ]
    },
    {
      "cell_type": "markdown",
      "metadata": {
        "id": "y-v5FNcbWBpi"
      },
      "source": [
        "*Run the following cell to import all modules and python files to this notebook. If you made changes in the python files, run the following cell again to update the python files in this notebook. You might need to restart your Colab session first (\"Runtime / Restart session\" in the header menu).*\n"
      ]
    },
    {
      "cell_type": "code",
      "execution_count": 1,
      "metadata": {
        "id": "qFy4zsH0WAz6"
      },
      "outputs": [],
      "source": [
        "import tensorflow as tf\n",
        "import datetime\n",
        "now = datetime.datetime.now\n",
        "import LecturePhysicsAwareML.Autoencoder.data as ld\n",
        "import LecturePhysicsAwareML.Autoencoder.models as lm\n",
        "import LecturePhysicsAwareML.Autoencoder.plots as lp"
      ]
    },
    {
      "cell_type": "markdown",
      "metadata": {
        "id": "tCsM5oQYUfuv"
      },
      "source": [
        "*Run this cell if you are executing the notebook locally on your device.*"
      ]
    },
    {
      "cell_type": "code",
      "execution_count": null,
      "metadata": {
        "id": "T5N5T3YXUfuw",
        "outputId": "395a85c5-64d0-4d28-90c6-120e4305f349"
      },
      "outputs": [
        {
          "name": "stderr",
          "output_type": "stream",
          "text": [
            "Matplotlib is building the font cache; this may take a moment.\n"
          ]
        }
      ],
      "source": [
        "import tensorflow as tf\n",
        "import datetime\n",
        "now = datetime.datetime.now\n",
        "import data as ld\n",
        "import models as lm\n",
        "import plots as lp"
      ]
    },
    {
      "cell_type": "markdown",
      "metadata": {
        "id": "u8QQsUEEvTxE"
      },
      "source": [
        "*If you want to clone the repository again, you have to delete it from your Google Colab files first. For this, you can run the following cell.*"
      ]
    },
    {
      "cell_type": "code",
      "execution_count": 7,
      "metadata": {
        "id": "1nOi7jY3vbsn"
      },
      "outputs": [],
      "source": [
        "%rm -rf LecturePhysicsAwareML"
      ]
    },
    {
      "cell_type": "markdown",
      "source": [
        "Load full autoencoder and encoder"
      ],
      "metadata": {
        "id": "pY-pgROF-AaU"
      }
    },
    {
      "cell_type": "code",
      "source": [
        "latent_variables = 2\n",
        "nodes = 64\n",
        "\n",
        "units = [nodes,latent_variables,nodes,1000]\n",
        "activation = ['softplus','linear','softplus','linear']\n",
        "model_AE = lm.main(units=units, activation=activation)\n",
        "\n",
        "units = [nodes,latent_variables]\n",
        "activation = ['softplus','linear']\n",
        "model_E = lm.main(units=units, activation=activation)"
      ],
      "metadata": {
        "id": "nh3CUStV-J6e"
      },
      "execution_count": 5,
      "outputs": []
    },
    {
      "cell_type": "markdown",
      "source": [
        "Define study and calibrate the autoencoder"
      ],
      "metadata": {
        "id": "6ulRH9MJ-NNa"
      }
    },
    {
      "cell_type": "code",
      "source": [
        "# define bacteria sets to be investigated (numbers between 0 and 29)\n",
        "cases = [18,27,0,26]\n",
        "wn_c, spectra_c, label_c = ld.load_data(cases)\n",
        "\n",
        "epochs = 500\n",
        "h = model_AE.fit([spectra_c], [spectra_c], epochs=epochs, verbose=2)\n",
        "\n",
        "lp.plot_loss(h)"
      ],
      "metadata": {
        "id": "bjtRVxSPwZyF"
      },
      "execution_count": null,
      "outputs": []
    },
    {
      "cell_type": "markdown",
      "source": [
        "Visualize results"
      ],
      "metadata": {
        "id": "v313lNyC-sUz"
      }
    },
    {
      "cell_type": "code",
      "source": [
        "# set the parameters of the encoder\n",
        "model_E.set_weights(model_AE.weights[0:4])\n",
        "\n",
        "# plot latent space\n",
        "for i in range(latent_variables):\n",
        "    for j in range(latent_variables):\n",
        "        if i!=j:\n",
        "            if i>j:\n",
        "\n",
        "                lp.plot_latent_space_ij(model_E, spectra_c, label_c, i, j)\n",
        "\n",
        "# plot the different bacteria types\n",
        "for i in range(len(cases)):\n",
        "\n",
        "    wn, spectra = ld.load_single_case(cases[i])\n",
        "    lp.plot_spectra(wn, spectra, i, cases[i])"
      ],
      "metadata": {
        "id": "RFM1psse8dk8"
      },
      "execution_count": null,
      "outputs": []
    }
  ],
  "metadata": {
    "colab": {
      "provenance": []
    },
    "kernelspec": {
      "display_name": "Python 3",
      "name": "python3"
    },
    "language_info": {
      "name": "python"
    }
  },
  "nbformat": 4,
  "nbformat_minor": 0
}