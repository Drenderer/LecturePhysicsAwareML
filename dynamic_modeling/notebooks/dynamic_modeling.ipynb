{
 "cells": [
  {
   "cell_type": "markdown",
   "metadata": {},
   "source": [
    "# Introduction to PAML for dynamic systems\n",
    "### Nonlinear spring pendulum\n",
    "\n",
    "---\n",
    "\n",
    "Lecture: \"Physics-augmented machine learning\" @ Cyber-Physical Simulation, TU Darmstadt\n",
    "\n",
    "Lecturer: Prof. Oliver Weeger\n",
    "\n",
    "Author: Fabian J. Roth\n",
    "\n",
    "---\n",
    "\n",
    "#### In this notebook, you will...\n",
    "\n",
    "* <span style=\"color:red\">learn something... Todo.</span>"
   ]
  },
  {
   "cell_type": "code",
   "execution_count": null,
   "metadata": {},
   "outputs": [],
   "source": [
    "# Run this cell if you are using Google Colab\n",
    "!git clone --depth 1 https://github.com/CPSHub/LecturePhysicsAwareML.git\n",
    "%cd LecturePhysicsAwareML/PINNs\n",
    "%pip install -e ."
   ]
  },
  {
   "cell_type": "code",
   "execution_count": 1,
   "metadata": {},
   "outputs": [
    {
     "name": "stdout",
     "output_type": "stream",
     "text": [
      "c:\\Users\\roth\\Documents\\Git Repositories\\LecturePhysicsAwareML_fork\\dynamic_modeling\n",
      "Note: you may need to restart the kernel to use updated packages.\n"
     ]
    },
    {
     "name": "stderr",
     "output_type": "stream",
     "text": [
      "c:\\Users\\roth\\Documents\\Git Repositories\\LecturePhysicsAwareML_fork\\dynamic_modeling\\.venv\\Scripts\\python.exe: No module named pip\n"
     ]
    }
   ],
   "source": [
    "# Run this cell if you are working locally\n",
    "%cd ..\n",
    "%pip install -e ."
   ]
  },
  {
   "cell_type": "markdown",
   "metadata": {},
   "source": [
    "## 1. The spring pendulum system\n",
    "In this task we consider a nonlinear spring pendulum system:\n",
    "\n",
    "<img src=\"images\\Spring_pendulum_only_cartesian.png\" height=\"400\"/>\n",
    "\n",
    "The governing equations can be obtained by using Hamiltons Principle and the Euler---Lagrange equations.\n",
    "\n",
    "Describing position of the mass $m$ with generalized (cartesian) coordinates $q_x, q_y$ and their velocities $\\dot q_x, \\dot q_y$, the total kinetic energy is given by\n",
    "$$\n",
    "\\begin{align}\n",
    "    T = \\frac{1}{2}m \\dot q_x^2 + \\frac{1}{2}m \\dot q_x^2.\n",
    "\\end{align}\n",
    "$$\n",
    "\n",
    "Similarly, the total potential energy is\n",
    "$$\n",
    "\\begin{align}\n",
    "    V = \\frac{1}{2}c\\big(l(\\boldsymbol{q}) - l_0\\big)^2 + mgq_y= \\frac{1}{2}c\\big(\\sqrt{q_x^2+q_y^2} - l_0\\big)^2 + mgq_y\n",
    "\\end{align}\n",
    "$$\n",
    "\n",
    "where $l$ and $l_0$ denote the spring length and spring rest length respectively, and $g$ is the gravitational constant.\n",
    "\n",
    "We thus obtain the Lagrangian $\\mathcal{L} = T - V$:\n",
    "$$\n",
    "\\begin{align}\n",
    "    \\mathcal{L}(q_x, q_y, \\dot q_x, \\dot q_y) = \\frac{1}{2}m(\\dot q_x^2 + \\dot q_y^2) - \\left[ \\frac{1}{2}c\\left(\\sqrt{q_x^2 + q_y^2} - l_0\\right)^2 + mgq_y \\right] + C\n",
    "\\end{align}\n",
    "$$\n",
    "where $C$ is an arbitrary constant corresponding to the chosen zero-level of the potential energy.\n",
    "\n",
    "Applying the Euler-Lagrange equation results in the following equation of motion:\n",
    "$$\n",
    "\\begin{align}\n",
    "m\\ddot q_x + c\\left(1 - \\frac{l_0}{\\sqrt{q_x^2 + q_y^2}}\\right)q_x &= 0\\\\\n",
    "m\\ddot q_y + c\\left(1 - \\frac{l_0}{\\sqrt{q_x^2 + q_y^2}}\\right)q_y + mg &= 0\n",
    "\\end{align}\n",
    "$$\n",
    "This can be written as a first order ordinary differential equation (ODE) by introducing the velocities $v_x=\\dot q_x, v_y=\\dot q_y$:\n",
    "\n",
    "<span style=\"color:red\">Todo.</span>\n",
    "\n",
    "Let's generate some trajectories, using varying initial positions and zero initial velocity and with $l_0 = g = c =1$."
   ]
  },
  {
   "cell_type": "code",
   "execution_count": null,
   "metadata": {},
   "outputs": [],
   "source": [
    "from dynamic_modeling import ODESolver\n",
    "import klax\n",
    "\n",
    "import equinox as eqx\n",
    "from jaxtyping import Array\n",
    "import jax\n",
    "import jax.numpy as jnp\n",
    "from jax import random as jr\n",
    "from jax.nn.initializers import variance_scaling\n",
    "\n",
    "import matplotlib.pyplot as plt\n",
    "\n",
    "class Derivative(eqx.Module):\n",
    "    \"\"\"\n",
    "    Derivative function of a linear two mass oscillator system, with a\n",
    "    force input u acting on the second mass.\n",
    "    \"\"\"\n",
    "\n",
    "    A: Array\n",
    "    B: Array\n",
    "    J: Array\n",
    "    R: Array\n",
    "    Q: Array\n",
    "\n",
    "    def __init__(self, m1, m2, k1, k2, d1, d2):\n",
    "        zeros = jnp.zeros((2, 2))\n",
    "\n",
    "        # Structure matrix\n",
    "        mass = jnp.array([[m1, 0], [0, m2]])\n",
    "        mass_inv = jnp.linalg.inv(mass)\n",
    "        J = jnp.block([[zeros, mass_inv], [-mass_inv, zeros]])\n",
    "        self.J = J\n",
    "\n",
    "        # Resistive matrix\n",
    "        diss = jnp.array(\n",
    "            [\n",
    "                [(d1 + d2) / (m1 * m1), -d2 / (m1 * m2)],\n",
    "                [-d2 / (m1 * m2), d2 / (m1 * m2)],\n",
    "            ]\n",
    "        )\n",
    "        R = jnp.block([[zeros, zeros], [zeros, diss]])\n",
    "        self.R = R\n",
    "\n",
    "        # Hamililtonian quadratic form H=xQx\n",
    "        Q = jnp.array(\n",
    "            [[k1 + k2, -k2, 0, 0], [-k2, k2, 0, 0], [0, 0, m1, 0], [0, 0, 0, m2]]\n",
    "        )\n",
    "        self.Q = Q\n",
    "\n",
    "        self.A = (J - R) @ Q\n",
    "\n",
    "        # Input matrix\n",
    "        self.B = jnp.array([0, 0, 0, 1 / m2])[:, None]\n",
    "\n",
    "    def __call__(self, t, y, u):\n",
    "        return self.A @ y + self.B @ u"
   ]
  }
 ],
 "metadata": {
  "kernelspec": {
   "display_name": ".venv",
   "language": "python",
   "name": "python3"
  },
  "language_info": {
   "codemirror_mode": {
    "name": "ipython",
    "version": 3
   },
   "file_extension": ".py",
   "mimetype": "text/x-python",
   "name": "python",
   "nbconvert_exporter": "python",
   "pygments_lexer": "ipython3",
   "version": "3.12.9"
  }
 },
 "nbformat": 4,
 "nbformat_minor": 2
}
